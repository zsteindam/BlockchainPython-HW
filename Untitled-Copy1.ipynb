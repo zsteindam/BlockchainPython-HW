{
 "cells": [
  {
   "cell_type": "code",
   "execution_count": 29,
   "metadata": {},
   "outputs": [],
   "source": [
    "from constants import *"
   ]
  },
  {
   "cell_type": "code",
   "execution_count": 30,
   "metadata": {},
   "outputs": [],
   "source": [
    "import subprocess\n",
    "import json\n",
    "from dotenv import load_dotenv\n",
    "import os\n",
    "from web3 import Web3\n",
    "from web3.middleware import geth_poa_middleware\n",
    "from web3 import Web3, IPCProvider\n",
    "from web3.auto.gethdev import w3\n",
    "from eth_account import Account\n",
    "from bit import Key, PrivateKey, PrivateKeyTestnet\n",
    "from bit.network import NetworkAPI, satoshi_to_currency\n"
   ]
  },
  {
   "cell_type": "code",
   "execution_count": 31,
   "metadata": {},
   "outputs": [
    {
     "data": {
      "text/plain": [
       "True"
      ]
     },
     "execution_count": 31,
     "metadata": {},
     "output_type": "execute_result"
    }
   ],
   "source": [
    "load_dotenv()"
   ]
  },
  {
   "cell_type": "code",
   "execution_count": 32,
   "metadata": {},
   "outputs": [
    {
     "name": "stdout",
     "output_type": "stream",
     "text": [
      "oyster speak kind clown oil crisp error hint best amazing globe brain edit index opinion\n"
     ]
    }
   ],
   "source": [
    "mnemonic = os.getenv(\"MNEMONIC\")\n",
    "print(mnemonic)"
   ]
  },
  {
   "cell_type": "code",
   "execution_count": 33,
   "metadata": {},
   "outputs": [],
   "source": [
    "#command = 'php derive --help-coins --format=json'\n",
    "#p = subprocess.Popen(command,stdout=subprocess.PIPE,shell=True)\n",
    "#(output, err) = p.communicate()\n",
    "#json.loads(output)"
   ]
  },
  {
   "cell_type": "code",
   "execution_count": 34,
   "metadata": {},
   "outputs": [],
   "source": [
    "def derive_wallets(mnem,coin,numderive):\n",
    "    command = 'php derive -g --mnemonic=\"'+str(mnem)+'\" --numderive='+str(numderive)+' --coin='+str(coin)+' --format=jsonpretty'\n",
    "    p = subprocess.Popen(command,stdout=subprocess.PIPE,shell=True)\n",
    "    (output, err) = p.communicate()\n",
    "    return json.loads(output)\n"
   ]
  },
  {
   "cell_type": "code",
   "execution_count": 35,
   "metadata": {},
   "outputs": [
    {
     "name": "stdout",
     "output_type": "stream",
     "text": [
      "{\n",
      "    \"btc-test\": [\n",
      "        {\n",
      "            \"address\": \"mxte1psGsYuCRrJeHxGPQMffeRXTDofbJD\",\n",
      "            \"index\": 0,\n",
      "            \"path\": \"m/44'/1'/0'/0/0\",\n",
      "            \"privkey\": \"cQADCjjzvkJMc4buFuPvyQf1cARcNxRJabT9526Ymww3qnirxXas\",\n",
      "            \"pubkey\": \"021403ee41830c81c70643d4f5cc947d54427f7c34e45e18b60b5a786f1e868870\",\n",
      "            \"pubkeyhash\": \"be9407c08f33ba6783d82aa2b81b5d3b5a67e885\",\n",
      "            \"xprv\": \"tprv8k87d86BT21HKGVB7q4URicoiV7DnSb19au2Mq5C8dejuKkBKATtQV3yi5oUFH8Lx3xCUUwDK7CT6L8kymBpY9hLb1AuduERupYytDexpDb\",\n",
      "            \"xpub\": \"tpubDGp9mY8RbPgxCjWy1Uj4q8GvHWd9wmmuitVoeM7VYuT8jozwwZHUayfqtCKJpntdryCQCh9rMHUfL42bKMNLB8zBYamJwYXSasFzq2hGSbD\"\n",
      "        },\n",
      "        {\n",
      "            \"address\": \"n4QNc1dy2AiizwNwsHPtRidrMzkcsX95vj\",\n",
      "            \"index\": 1,\n",
      "            \"path\": \"m/44'/1'/0'/0/1\",\n",
      "            \"privkey\": \"cSw2ypaCQ5kHM8rKus644MMmyZr6qatkQVeGuiLHohpB3RhtvEDp\",\n",
      "            \"pubkey\": \"037e8f5a112528e65845a61909c9f26055489de442bbbabfa48ce1c97921bc0cc1\",\n",
      "            \"pubkeyhash\": \"fb0c4620f9e85ff191e9549521df91f256241228\",\n",
      "            \"xprv\": \"tprv8k87d86BT21HNm18M8us5NUXfMYPB7pkjQsxfhGz3nG5W3F7rWjzArkHoP2BxYR8Yqg4qatByLxZh8Kpytsb5CCD24SnDKhD43d2UZ52Hm9\",\n",
      "            \"xpub\": \"tpubDGp9mY8RbPgxGE2vEnaTUn8eEP4KLT1fJiUjxDKHU44ULXVtUuZaMMN9yXfFvjby7pCDVqvxhKwz3pL3bxgB6b6tiJ3vVAnvyRpTFF29WK3\"\n",
      "        },\n",
      "        {\n",
      "            \"address\": \"mqhgiDbgeTWHtW7LxcmBuu9TrzHxkir8BM\",\n",
      "            \"index\": 2,\n",
      "            \"path\": \"m/44'/1'/0'/0/2\",\n",
      "            \"privkey\": \"cUfq4brJpqfrETRANQqYDCcQcqRouNTmWKu91QQxsuwTUkrQiqbq\",\n",
      "            \"pubkey\": \"03c90e4878a6d5f00da548bdbb109fd07748d0718c7ceda11a381544643748c904\",\n",
      "            \"pubkeyhash\": \"6fb8d337a0564c6ac49b63dda248d29ac49d8632\",\n",
      "            \"xprv\": \"tprv8k87d86BT21HQ7D74hkMHJQ6uiqvX3uMyvaTBk9aAonndrTEF7d9s5he9DtqiHKH4j64rHbFyXgU4VA85evGL6ApGLcJpFAFGGMcvWC4nfE\",\n",
      "            \"xpub\": \"tpubDGp9mY8RbPgxHaEtxMQwgi4DUkMrgP6GZEBEUGBsb5bBULhzsWSk3aKWKNht5FxaVwBWjrQnHXYPWpehg5DnCq3Zyj2iDvtmAB8ZmHYoDBZ\"\n",
      "        }\n",
      "    ],\n",
      "    \"eth\": [\n",
      "        {\n",
      "            \"address\": \"0x5adCc4F4d45334B50f96a621D6EFaA7De9d37152\",\n",
      "            \"index\": 0,\n",
      "            \"path\": \"m/44'/60'/0'/0/0\",\n",
      "            \"privkey\": \"0xfde72f37fe094d1004508b007bbd68ea49a4473bbba00779cc2edf5da51cbba6\",\n",
      "            \"pubkey\": \"03c63cbc8c4108655f90ec083838344ed529fb776ca1c427d969f11c9c96b8aa26\",\n",
      "            \"pubkeyhash\": \"3a815e20f14cfa4998122ca875cb2a6ee29d1e83\",\n",
      "            \"xprv\": \"xprvA4GatEMKSvVk51piWXe7S8VJAxub51k89YjiAZC1nP1V9cZQUmhiF4WMVjYntbSBEftdEWfSiermuJ1W7t3v2cLHDUnf6nRhQNf2RPWXC5w\",\n",
      "            \"xpub\": \"xpub6HFwHjtDHJ43HVuBcZB7oGS2izk5UUTyWmfJxwbdLiYU2QtZ2K1xnrpqM26nbmrzGhURX9eeX9eWpV4eLiNuRnXQWG2xymgrwJVh8F33qa7\"\n",
      "        },\n",
      "        {\n",
      "            \"address\": \"0x178a5F7AF8903d0eB6512245eA443e4ef728c50a\",\n",
      "            \"index\": 1,\n",
      "            \"path\": \"m/44'/60'/0'/0/1\",\n",
      "            \"privkey\": \"0x5ab905bd1a64584571d7384d07c66a6430b9e4892cb0bd0aea796b701949b626\",\n",
      "            \"pubkey\": \"021c10ca49b23cf1dc61333e8869183104dcaeb516f127f9eb9a78666162363220\",\n",
      "            \"pubkeyhash\": \"c1e1d3977777b6cc5c24ba64af5239ca825c14a6\",\n",
      "            \"xprv\": \"xprvA4GatEMKSvVk8gXrWbRQ5b2vn8MxdLqJRcbyW6D7yJgXRpHxNZ8vVpJuT46CQ9BHTjePusLLMu6a3CAb5TwM61kfwHRdQJmPAWvzMbPxbyu\",\n",
      "            \"xpub\": \"xpub6HFwHjtDHJ43MAcKccxQSiyfLACT2oZ9nqXaJUcjXeDWJcd6v6TB3cdPJJeNMBpk7ketCaLmAZx6evprewK7G3b2UZ2CSaSyTDW7ZhBYXf6\"\n",
      "        },\n",
      "        {\n",
      "            \"address\": \"0x2E9bfb26Db305c07e6aF2E5c447EA1A8B69ee82b\",\n",
      "            \"index\": 2,\n",
      "            \"path\": \"m/44'/60'/0'/0/2\",\n",
      "            \"privkey\": \"0xadc9541004e3933bd737cbd98750183078df17d3fa3310b6abc08d60ff455382\",\n",
      "            \"pubkey\": \"0294ebe51530ad982b2fe241c0dd41ea070c16ba389b6f3237861eb64a3be149ad\",\n",
      "            \"pubkeyhash\": \"0a21593263412d736a141d4e935c8f1e3567639a\",\n",
      "            \"xprv\": \"xprvA4GatEMKSvVkArhYhbsWSA3BhLQEqnQx8uHdmFpAVQoKhcSHM4vr5jSop7cBA4zDTHfBiQoaih4tagLo7gccPq96MvkFRJo9zzkJ21hi1M6\",\n",
      "            \"xpub\": \"xpub6HFwHjtDHJ43PLn1odQWoHyvFNEjFF8oW8DEZeDn3kLJaQmRtcF6dXmHfNSzTSyqhpYpTaKCa5a1fgsYJw6Q8uNAsWxx79mNbn5dNyMgg19\"\n",
      "        }\n",
      "    ]\n",
      "}\n"
     ]
    }
   ],
   "source": [
    "coins = {'eth':derive_wallets(mnem=mnemonic,coin=ETH,numderive=3),'btc-test': derive_wallets(mnem=mnemonic,coin=BTCTEST,numderive=3)}\n",
    "print(json.dumps(coins, indent=4, sort_keys=True))"
   ]
  },
  {
   "cell_type": "code",
   "execution_count": null,
   "metadata": {},
   "outputs": [],
   "source": []
  },
  {
   "cell_type": "code",
   "execution_count": null,
   "metadata": {},
   "outputs": [],
   "source": []
  },
  {
   "cell_type": "code",
   "execution_count": 36,
   "metadata": {},
   "outputs": [
    {
     "data": {
      "text/plain": [
       "'0xfde72f37fe094d1004508b007bbd68ea49a4473bbba00779cc2edf5da51cbba6'"
      ]
     },
     "execution_count": 36,
     "metadata": {},
     "output_type": "execute_result"
    }
   ],
   "source": [
    "coins['eth'][0]['privkey']"
   ]
  },
  {
   "cell_type": "code",
   "execution_count": 37,
   "metadata": {},
   "outputs": [
    {
     "data": {
      "text/plain": [
       "'0xfde72f37fe094d1004508b007bbd68ea49a4473bbba00779cc2edf5da51cbba6'"
      ]
     },
     "execution_count": 37,
     "metadata": {},
     "output_type": "execute_result"
    }
   ],
   "source": [
    "coins['eth'][0]['privkey']"
   ]
  },
  {
   "cell_type": "code",
   "execution_count": 38,
   "metadata": {},
   "outputs": [],
   "source": [
    "w3 = Web3(Web3.HTTPProvider(\"http://127.0.0.1:8545\"))\n",
    "w3.middleware_onion.inject(geth_poa_middleware, layer=0)"
   ]
  },
  {
   "cell_type": "code",
   "execution_count": null,
   "metadata": {},
   "outputs": [],
   "source": []
  },
  {
   "cell_type": "code",
   "execution_count": 39,
   "metadata": {},
   "outputs": [],
   "source": [
    "def priv_key_to_account(coin,priv_key):\n",
    "    if coin == ETH:\n",
    "        account = Account.privateKeyToAccount(priv_key).address\n",
    "    if coin == BTCTEST:\n",
    "        account = PrivateKeyTestnet(priv_key)\n",
    "    return account"
   ]
  },
  {
   "cell_type": "code",
   "execution_count": 40,
   "metadata": {},
   "outputs": [
    {
     "data": {
      "text/plain": [
       "'0x178a5F7AF8903d0eB6512245eA443e4ef728c50a'"
      ]
     },
     "execution_count": 40,
     "metadata": {},
     "output_type": "execute_result"
    }
   ],
   "source": [
    "priv_key_to_account(coin = ETH,priv_key =coins['eth'][1]['privkey'])"
   ]
  },
  {
   "cell_type": "code",
   "execution_count": 41,
   "metadata": {},
   "outputs": [],
   "source": [
    "#account_one = Account.privateKeyToAccount(coins['eth'][0]['privkey']).address\n",
    "#account_one.address"
   ]
  },
  {
   "cell_type": "code",
   "execution_count": 42,
   "metadata": {},
   "outputs": [],
   "source": [
    "def create_tx(coin,account,recipient,amount):\n",
    "    global tx\n",
    "    global tx_data\n",
    "    if coin =='eth':\n",
    "        w3.eth.defaultAccount = account.address\n",
    "        gasEstimate = w3.eth.estimateGas(\n",
    "            {\"from\": account.address, \"to\": recipient, \"value\": amount}\n",
    "        )\n",
    "        tx= {\n",
    "            \"from\": account.address,\n",
    "            \"to\": recipient,\n",
    "            \"value\": amount,\n",
    "            \"gasPrice\": w3.eth.gasPrice,\n",
    "            \"gas\": gasEstimate,\n",
    "            \"nonce\": w3.eth.getTransactionCount(account.address),\n",
    "        }\n",
    "        return tx\n",
    "    else:\n",
    "        tx_data= PrivateKeyTestnet.prepare_transaction(account.address, [(recipient, amount, 'usd')])      \n",
    "        return tx_data"
   ]
  },
  {
   "cell_type": "code",
   "execution_count": 43,
   "metadata": {},
   "outputs": [],
   "source": [
    "from web3.middleware import geth_poa_middleware\n",
    "from bit.network import NetworkAPI\n",
    "\n",
    "def send_tx(coin,account, recipient, amount):\n",
    "    if coin =='eth':\n",
    "        w3.eth.setGasPriceStrategy(medium_gas_price_strategy)\n",
    "        trx = create_tx(coin,account, recipient, amount)\n",
    "        signed_tx = account.sign_transaction(trx)\n",
    "        result = w3.eth.sendRawTransaction(signed_tx.rawTransaction)\n",
    "        send = print(result.hex()) \n",
    "        return send\n",
    "    else:\n",
    "        tx_data= PrivateKeyTestnet.prepare_transaction(account.address, [(recipient, amount, 'usd')])\n",
    "        tx_hex = key.sign_transaction(tx_data)\n",
    "        \n",
    "        NetworkAPI.broadcast_tx_testnet(tx_hex)       \n",
    "        return tx_hex\n"
   ]
  },
  {
   "cell_type": "code",
   "execution_count": 44,
   "metadata": {},
   "outputs": [],
   "source": [
    "from web3.middleware import geth_poa_middleware #medium_gas_price_strategy\n",
    "#w3.eth.setGasPriceStrategy(medium_gas_price_strategy)\n",
    "from web3 import Web3, EthereumTesterProvider\n",
    "w3 = Web3(EthereumTesterProvider)\n",
    "from web3.middleware import construct_sign_and_send_raw_middleware\n",
    "from eth_account import Account\n",
    "from bit.network import NetworkAPI\n",
    "\n",
    "\n",
    "def send_tx2(coin,account, recipient, amount):\n",
    "    if coin =='eth':\n",
    "        acct = Account.create(recipient, amount)\n",
    "        w3.middleware_onion.add(construct_sign_and_send_raw_middleware(acct))\n",
    "        w3.eth.defaultAccount = account.address\n",
    "        result = w3.eth.sendRawTransaction(account.address)\n",
    "        send = print(result.hex()) \n",
    "        return send\n",
    "    else:\n",
    "        tx_data= PrivateKeyTestnet.prepare_transaction(account.address, [(recipient, amount, 'usd')])\n",
    "        tx_hex = key.sign_transaction(tx_data)\n",
    "        NetworkAPI.broadcast_tx_testnet(tx_hex)       \n",
    "        return tx_hex\n"
   ]
  },
  {
   "cell_type": "code",
   "execution_count": 45,
   "metadata": {},
   "outputs": [],
   "source": [
    "def create_raw_tx(account, recipient, amount):\n",
    "    gasEstimate = w3.eth.estimateGas(\n",
    "        {\"from\": account.address, \"to\": recipient, \"value\": amount}\n",
    "    )\n",
    "    return {\n",
    "        \"from\": account.address,\n",
    "        \"to\": recipient,\n",
    "        \"value\": amount,\n",
    "        \"gasPrice\": w3.eth.gasPrice,\n",
    "        \"gas\": gasEstimate,\n",
    "        \"nonce\": w3.eth.getTransactionCount(account.address),\n",
    "    }\n"
   ]
  },
  {
   "cell_type": "code",
   "execution_count": 46,
   "metadata": {},
   "outputs": [],
   "source": [
    "def send_tx3(account, recipient, amount):\n",
    "    tx = create_raw_tx(account, recipient, amount)\n",
    "    signed_tx = account.sign_transaction(tx)\n",
    "    result = w3.eth.sendRawTransaction(signed_tx.rawTransaction)\n",
    "    print(result.hex())\n",
    "    return result.hex()"
   ]
  },
  {
   "cell_type": "code",
   "execution_count": null,
   "metadata": {},
   "outputs": [],
   "source": []
  },
  {
   "cell_type": "code",
   "execution_count": null,
   "metadata": {},
   "outputs": [],
   "source": []
  }
 ],
 "metadata": {
  "kernelspec": {
   "display_name": "Python 3",
   "language": "python",
   "name": "python3"
  },
  "language_info": {
   "codemirror_mode": {
    "name": "ipython",
    "version": 3
   },
   "file_extension": ".py",
   "mimetype": "text/x-python",
   "name": "python",
   "nbconvert_exporter": "python",
   "pygments_lexer": "ipython3",
   "version": "3.7.3"
  }
 },
 "nbformat": 4,
 "nbformat_minor": 4
}
